{
 "cells": [
  {
   "cell_type": "markdown",
   "id": "11fd5210-e389-4008-81fe-fe9c4fb78ace",
   "metadata": {},
   "source": [
    "# Data Science Tools and Ecosystem"
   ]
  },
  {
   "cell_type": "markdown",
   "id": "38132ca3-aa1f-4641-9b57-1007329845ee",
   "metadata": {},
   "source": [
    "In this notebook, Data Science Tools and Ecosystem are summarized."
   ]
  },
  {
   "cell_type": "markdown",
   "id": "27ad2a92-3636-4803-8feb-b35d49fe7a19",
   "metadata": {},
   "source": [
    "**Objectives:**\n",
    "- List Popular languages for Data Science\n",
    "- List common libraries used for Data Science\n",
    "- List commonly used tools for Data Science"
   ]
  },
  {
   "cell_type": "markdown",
   "id": "eba8798b-9b86-430e-b6a9-e941d41e8894",
   "metadata": {},
   "source": [
    "### Some of the popular languages that Data Scientists use are:\n",
    "1. Python\n",
    "2. SQL\n",
    "3. C++\n",
    "4. Java"
   ]
  },
  {
   "cell_type": "markdown",
   "id": "728f9c5d-8a51-48c9-aef1-7b8deb900495",
   "metadata": {},
   "source": [
    "### Some of the commonly used libraries used by Data Scientists include:\n",
    "1. Pandas\n",
    "2. Numpy\n",
    "3. Caret\n",
    "4. ggplot2"
   ]
  },
  {
   "cell_type": "markdown",
   "id": "e2f23791-f8ff-4abc-835d-8c2795a8769c",
   "metadata": {},
   "source": [
    "### Some commonly used tools used by Data Scientists include:\n",
    "|Data Science Tools|\n",
    "|---------|\n",
    "|Jupyter Lab|\n",
    "|Rstudio|\n",
    "|Github|"
   ]
  },
  {
   "cell_type": "markdown",
   "id": "ec941d16-f062-4037-8108-e604c8150533",
   "metadata": {},
   "source": [
    "### Below are a few examples of evaluating arithmetic expressions in Python"
   ]
  },
  {
   "cell_type": "code",
   "execution_count": 2,
   "id": "e7465a71-9cff-4615-a739-0493d33cceae",
   "metadata": {},
   "outputs": [
    {
     "data": {
      "text/plain": [
       "17"
      ]
     },
     "execution_count": 2,
     "metadata": {},
     "output_type": "execute_result"
    }
   ],
   "source": [
    "# This is a simple arithmetic expression to multiply then add integers\n",
    "(3*4)+5"
   ]
  },
  {
   "cell_type": "code",
   "execution_count": 6,
   "id": "dccfcc0b-583d-4106-a03f-47dace5c3a47",
   "metadata": {},
   "outputs": [
    {
     "name": "stdout",
     "output_type": "stream",
     "text": [
      "200 minutes is 3.3333333333333335 hours.\n"
     ]
    }
   ],
   "source": [
    "# This will convert 200 minutes to Hours by dividing by 60\n",
    "print(\"200 minutes is \" + str(200/60) + \" hours.\")"
   ]
  },
  {
   "cell_type": "markdown",
   "id": "c3edcde4-9833-4841-8fd5-866bedc0779b",
   "metadata": {},
   "source": [
    "## Author\n",
    "John Marsland"
   ]
  }
 ],
 "metadata": {
  "kernelspec": {
   "display_name": "Python 3 (ipykernel)",
   "language": "python",
   "name": "python3"
  },
  "language_info": {
   "codemirror_mode": {
    "name": "ipython",
    "version": 3
   },
   "file_extension": ".py",
   "mimetype": "text/x-python",
   "name": "python",
   "nbconvert_exporter": "python",
   "pygments_lexer": "ipython3",
   "version": "3.13.1"
  }
 },
 "nbformat": 4,
 "nbformat_minor": 5
}
